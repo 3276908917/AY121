{
 "cells": [
  {
   "cell_type": "markdown",
   "metadata": {},
   "source": [
    "$R_\\text{arm} = R_0 e^{\\kappa(\\phi - \\phi_0)}$\n",
    "\n",
    "$\\ln R_\\text{arm} = \\ln R_0 + \\kappa(\\phi - \\phi_0)$\n",
    "\n",
    "$\\ln R_\\text{arm} = \\ln R_0 + \\kappa \\phi - \\kappa \\phi_0$\n",
    "\n",
    "$\\kappa \\phi = \\ln R_\\text{arm} - \\ln R_0 + \\kappa \\phi_0$\n",
    "\n",
    "$\\phi = \\ln (\\frac{R_\\text{arm}}{R_0}) \\,  / \\,  \\kappa + \\phi_0$\n",
    "\n",
    "$\\phi = \\alpha + \\phi_0$\n",
    "\n",
    "where $\\alpha \\equiv \\ln (\\frac{R_\\text{arm}}{R_0}) / \\kappa$"
   ]
  },
  {
   "cell_type": "markdown",
   "metadata": {},
   "source": [
    "$V_\\text{Dopp} = [\\frac{V(R)}{R} - \\frac{V(R_\\odot)}{R_\\odot}] R_\\odot \\sin(\\ell)$\n",
    "\n",
    "where $V(R_\\odot) \\approx 220$ km / s and $R_\\odot \\approx 8.5$ kpc."
   ]
  },
  {
   "cell_type": "code",
   "execution_count": null,
   "metadata": {},
   "outputs": [],
   "source": []
  }
 ],
 "metadata": {
  "kernelspec": {
   "display_name": "Python ay160",
   "language": "python",
   "name": "ay160"
  },
  "language_info": {
   "codemirror_mode": {
    "name": "ipython",
    "version": 3
   },
   "file_extension": ".py",
   "mimetype": "text/x-python",
   "name": "python",
   "nbconvert_exporter": "python",
   "pygments_lexer": "ipython3",
   "version": "3.7.7"
  }
 },
 "nbformat": 4,
 "nbformat_minor": 4
}
