{
 "cells": [
  {
   "cell_type": "code",
   "execution_count": 1,
   "metadata": {},
   "outputs": [],
   "source": [
    "#imports\n",
    "import ugradio\n",
    "import numpy as np\n",
    "import matplotlib.pyplot as plt\n",
    "from ugradio import timing"
   ]
  },
  {
   "cell_type": "code",
   "execution_count": 2,
   "metadata": {},
   "outputs": [],
   "source": [
    "#loading data\n",
    "def load_saves(filename):\n",
    "    a = np.load(filename)\n",
    "    return dict(zip((\"{}\".format(k) for k in a), (a[k] for k in a)))\n",
    "\n",
    "def getdata(filename):\n",
    "    '''Sorts a save to time and voltage arrays\n",
    "    \n",
    "    Inputs:\n",
    "    filename: name of the file with data as a string\n",
    "    \n",
    "    Outputs:\n",
    "    datat: array of times\n",
    "    datav = array of voltages\n",
    "    '''\n",
    "    data = load_saves(filename)\n",
    "    data = data['data']\n",
    "    datav,datat = data[0],data[1]\n",
    "    return datat,datav"
   ]
  },
  {
   "cell_type": "code",
   "execution_count": 8,
   "metadata": {},
   "outputs": [],
   "source": [
    "t,v = getdata('../data/sundata_892.73_minutes.npz')"
   ]
  },
  {
   "cell_type": "code",
   "execution_count": 9,
   "metadata": {},
   "outputs": [],
   "source": [
    "#Really, the only thing I look at is the plot of the filtered data. The three functions below define all of it\n",
    "\n",
    "def getfft(t,v):\n",
    "    '''Calculates the fourier transform of a voltage data set.\n",
    "    Inputs:\n",
    "    t = array of times\n",
    "    v = array of voltages\n",
    "\n",
    "    Outputs:\n",
    "    freq = array of the corresponding frequencies\n",
    "    power = array of the fourier transform'''\n",
    "    trans = np.fft.fft(v)\n",
    "    power = np.abs(trans)**2\n",
    "    freq = np.fft.fftfreq(t.shape[-1])\n",
    "    return freq, power, trans\n",
    "\n",
    "def fftfilter(t,v):\n",
    "    '''Filters out lowest 30 frequencies (positive and negative)\n",
    "    \n",
    "    Inputs: \n",
    "    t = array of times\n",
    "    v = array of voltages\n",
    "    \n",
    "    Outputs:\n",
    "    freq = array of frequencies\n",
    "    trans = array of filtered, transformed data\n",
    "    '''\n",
    "    freq,power,trans = getfft(t,v)\n",
    "    for i in range(0,30):\n",
    "        trans[i] = 0\n",
    "        trans[-i] = 0\n",
    "    return freq, trans\n",
    "\n",
    "def filterplot(t,v):\n",
    "    '''\n",
    "    '''\n",
    "    freq,trans = fftfilter(t,v)\n",
    "    filtered = np.fft.ifft(trans)\n",
    "    power = np.abs(trans)**2\n",
    "\n",
    "    plt.subplot(2,1,1)\n",
    "    plt.plot(t,filtered)\n",
    "    plt.xlabel('Time (s)')\n",
    "    plt.ylabel('Voltage (V)')\n",
    "\n",
    "    plt.subplot(2,1,2)\n",
    "    plt.plot(np.fft.fftshift(freq),np.fft.fftshift(power))\n",
    "    plt.xlabel('Frequency (Hz)')\n",
    "    plt.ylabel('Arbitrary Unites (log(V$^2$))')\n",
    "\n",
    "    plt.show()"
   ]
  },
  {
   "cell_type": "code",
   "execution_count": 10,
   "metadata": {},
   "outputs": [
    {
     "name": "stderr",
     "output_type": "stream",
     "text": [
      "C:\\Users\\Lukas\\Anaconda3\\envs\\ay160\\lib\\site-packages\\numpy\\core\\_asarray.py:85: ComplexWarning: Casting complex values to real discards the imaginary part\n",
      "  return array(a, dtype, copy=False, order=order)\n"
     ]
    },
    {
     "data": {
      "image/png": "[encoded data removed]",
      "text/plain": [
       "<Figure size 432x288 with 2 Axes>"
      ]
     },
     "metadata": {
      "needs_background": "light"
     },
     "output_type": "display_data"
    }
   ],
   "source": [
    "#now just plot\n",
    "filterplot(t,v)"
   ]
  },
  {
   "cell_type": "code",
   "execution_count": 11,
   "metadata": {},
   "outputs": [],
   "source": [
    "# plotting unfiltered, just if its wanted\n",
    "\n",
    "def getplot(t,v):\n",
    "    #time = []\n",
    "    #for i in range(len(t)):\n",
    "    #    jd = ugradio.timing.julian_date(t[i])\n",
    "    #    time.append(ugradio.timing.lst(jd))\n",
    "    plt.plot(t,v)\n",
    "    plt.xlabel('Time (s)')\n",
    "    plt.ylabel('Voltage (V)')\n",
    "\n",
    "def dualplot(t,v):\n",
    "    freq,power,trans = getfft(t,v)\n",
    "    plt.subplot(2,1,1)\n",
    "    getplot(t,v)\n",
    "\n",
    "    plt.subplot(2,1,2)\n",
    "    plt.plot(np.fft.fftshift(freq),np.fft.fftshift(power))\n",
    "    plt.xlabel('Frequency (Hz)')\n",
    "    plt.ylabel('Arbitrary Unites (log(V$^2$))')\n",
    "\n",
    "    plt.tight_layout()\n",
    "    plt.show()"
   ]
  },
  {
   "cell_type": "code",
   "execution_count": 7,
   "metadata": {},
   "outputs": [
    {
     "ename": "NameError",
     "evalue": "name 't' is not defined",
     "output_type": "error",
     "traceback": [
      "\u001b[1;31m---------------------------------------------------------------------------\u001b[0m",
      "\u001b[1;31mNameError\u001b[0m                                 Traceback (most recent call last)",
      "\u001b[1;32m<ipython-input-7-db108416b029>\u001b[0m in \u001b[0;36m<module>\u001b[1;34m\u001b[0m\n\u001b[0;32m      1\u001b[0m \u001b[1;31m#for the plot\u001b[0m\u001b[1;33m\u001b[0m\u001b[1;33m\u001b[0m\u001b[1;33m\u001b[0m\u001b[0m\n\u001b[1;32m----> 2\u001b[1;33m \u001b[0mdualplot\u001b[0m\u001b[1;33m(\u001b[0m\u001b[0mt\u001b[0m\u001b[1;33m,\u001b[0m\u001b[0mv\u001b[0m\u001b[1;33m)\u001b[0m\u001b[1;33m\u001b[0m\u001b[1;33m\u001b[0m\u001b[0m\n\u001b[0m",
      "\u001b[1;31mNameError\u001b[0m: name 't' is not defined"
     ]
    }
   ],
   "source": [
    "#for the plot\n",
    "dualplot(t,v)"
   ]
  },
  {
   "cell_type": "code",
   "execution_count": null,
   "metadata": {},
   "outputs": [],
   "source": []
  }
 ],
 "metadata": {
  "kernelspec": {
   "display_name": "Python 3",
   "language": "python",
   "name": "python3"
  },
  "language_info": {
   "codemirror_mode": {
    "name": "ipython",
    "version": 3
   },
   "file_extension": ".py",
   "mimetype": "text/x-python",
   "name": "python",
   "nbconvert_exporter": "python",
   "pygments_lexer": "ipython3",
   "version": "3.7.7"
  }
 },
 "nbformat": 4,
 "nbformat_minor": 2
}
