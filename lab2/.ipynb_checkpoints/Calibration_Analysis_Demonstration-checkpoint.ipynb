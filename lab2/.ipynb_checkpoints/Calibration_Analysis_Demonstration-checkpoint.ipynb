{
 "cells": [
  {
   "cell_type": "markdown",
   "metadata": {},
   "source": [
    "<p>&emsp;&emsp;For this notebook to output the desiderata without any modifications, some assumptions have to be satisfied.</p>\n",
    "\n",
    "<p>&emsp;&emsp;Overall, one must <i>exactly</i> conform to my Git hierarchy. It would be optimal to clone the repository to the local machine. Then, place <span style=\"color:green\">'on.npz'</span> and <span style=\"color:green\">'off.npz'</span> directly into the <span style=\"color:blue\">'data/'</span> directory. Finally, place the <span style=\"color:blue\">'thermal/'</span>  directory in the <span style=\"color:blue\">'data/'</span>  directory as well (make sure to remove all tag files). <p>"
   ]
  },
  {
   "cell_type": "code",
   "execution_count": 1,
   "metadata": {},
   "outputs": [],
   "source": [
    "# Convenient one-liner to import all of the modules that I have written.\n",
    "%run synthesis"
   ]
  },
  {
   "cell_type": "code",
   "execution_count": 2,
   "metadata": {},
   "outputs": [],
   "source": [
    "# I have included this variable which you can switch in case\n",
    "# my implementation does not run properly on your machine.\n",
    "tax_CPU = True"
   ]
  },
  {
   "cell_type": "code",
   "execution_count": 10,
   "metadata": {},
   "outputs": [],
   "source": [
    "# This vacuous statement announces global variables.\n",
    "# Doing this allows me to split my declarations in the if statement.\n",
    "on_median = on_mean = off_median = off_mean = None"
   ]
  },
  {
   "cell_type": "code",
   "execution_count": 3,
   "metadata": {},
   "outputs": [],
   "source": [
    "# Both branches should output the same results.\n",
    "# However, the logic may be easier to follow in the else-statement.\n",
    "\n",
    "if tax_CPU:\n",
    "    # this approach is more memory efficient: because we pass the loaded data\n",
    "    # directly into the reduction function, Python's automated garbage\n",
    "    # collection will clear the 600 MiB out of ram.\n",
    "    \n",
    "    on_median = reduce_raw(load_saves('data/on.npz')['raw_on'], samples_median)\n",
    "    \n",
    "    on_mean = reduce_raw(load_saves('data/on.npz')['raw_on'], samples_mean)\n",
    "    \n",
    "    on_median = reduce_raw(load_saves('data/off.npz')['raw_off'], samples_median)\n",
    "    \n",
    "    on_mean = reduce_raw(load_saves('data/off.npz')['raw_off'], samples_mean)\n",
    "else:\n",
    "    # this approach is more CPU efficient, because we load saves\n",
    "    # half as many times. However, the data sticks around in the shell,\n",
    "    # occupying space in RAM.\n",
    "    \n",
    "    on_raw = load_saves('data/on.npz')['raw_on']\n",
    "    on_mean = reduce_raw(on_raw, samples_mean)\n",
    "    on_median = reduce_raw(on_raw, samples_median)\n",
    "    \n",
    "    off_raw = load_saves('data/off.npz')['raw_off']\n",
    "    off_mean = reduce_raw(off_raw, samples_mean)\n",
    "    off_median = reduce_raw(off_raw, samples_median)"
   ]
  },
  {
   "cell_type": "code",
   "execution_count": 7,
   "metadata": {},
   "outputs": [],
   "source": [
    "# Generate the x axis for all power plots\n",
    "# We are sampling at about 10.42 MHz, and each sample contains 16000 points.\n",
    "x = freq_range(62.5e6 / 6, 16000) / 10 ** 6\n",
    "# The divisor converts from Hz to MHz"
   ]
  },
  {
   "cell_type": "code",
   "execution_count": 8,
   "metadata": {},
   "outputs": [
    {
     "data": {
      "image/png": "[encoded data removed]",
      "text/plain": [
       "<Figure size 432x288 with 1 Axes>"
      ]
     },
     "metadata": {
      "needs_background": "light"
     },
     "output_type": "display_data"
    }
   ],
   "source": [
    "pp_skeleton(x, on_mean, (-2, 2), logv=True)"
   ]
  },
  {
   "cell_type": "code",
   "execution_count": null,
   "metadata": {},
   "outputs": [],
   "source": []
  }
 ],
 "metadata": {
  "kernelspec": {
   "display_name": "Python ay160",
   "language": "python",
   "name": "ay160"
  },
  "language_info": {
   "codemirror_mode": {
    "name": "ipython",
    "version": 3
   },
   "file_extension": ".py",
   "mimetype": "text/x-python",
   "name": "python",
   "nbconvert_exporter": "python",
   "pygments_lexer": "ipython3",
   "version": "3.7.6"
  }
 },
 "nbformat": 4,
 "nbformat_minor": 4
}
