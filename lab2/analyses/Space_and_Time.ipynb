{
 "cells": [
  {
   "cell_type": "code",
   "execution_count": 35,
   "metadata": {},
   "outputs": [
    {
     "name": "stdout",
     "output_type": "stream",
     "text": [
      "/Users/lfinkbeiner/Documents/GitHub/AY121/lab2\n"
     ]
    }
   ],
   "source": [
    "cd .."
   ]
  },
  {
   "cell_type": "code",
   "execution_count": 36,
   "metadata": {},
   "outputs": [],
   "source": [
    "%run synthesis"
   ]
  },
  {
   "cell_type": "code",
   "execution_count": 37,
   "metadata": {},
   "outputs": [
    {
     "name": "stdout",
     "output_type": "stream",
     "text": [
      "/Users/lfinkbeiner/Documents/GitHub/AY121/lab2/analyses\n"
     ]
    }
   ],
   "source": [
    "cd analyses"
   ]
  },
  {
   "cell_type": "code",
   "execution_count": 38,
   "metadata": {},
   "outputs": [],
   "source": [
    "# Remember that, when the horn is pointing up, RA = LST\n",
    "def time_overhead(ux):\n",
    "    jd = ugradio.timing.julian_date(ux)\n",
    "    print(jd)\n",
    "    lst = ugradio.timing.lst(jd)\n",
    "    print(lst)\n",
    "    print('PST:', ugradio.timing.local_time(ux))\n",
    "    print('Doppler correction:',\n",
    "          ugradio.doppler.get_projected_velocity(\n",
    "              np.degrees(lst), 37.873199, jd))\n",
    "    return jd, lst"
   ]
  },
  {
   "cell_type": "code",
   "execution_count": 39,
   "metadata": {},
   "outputs": [
    {
     "name": "stdout",
     "output_type": "stream",
     "text": [
      "2458908.5325225084\n",
      "0.833447983009292\n",
      "PST: Fri Feb 28 16:46:49 2020\n",
      "Doppler correction: -27648.19266498681 m / s\n"
     ]
    }
   ],
   "source": [
    "# start date, calibration spectrum, on-line\n",
    "ux_cal_on_start = 1582937209.9447305\n",
    "jd_cal_on_start, lst_cal_on_start = time_overhead(ux_cal_on_start)"
   ]
  },
  {
   "cell_type": "code",
   "execution_count": 40,
   "metadata": {},
   "outputs": [
    {
     "name": "stdout",
     "output_type": "stream",
     "text": [
      "2458908.5382459336\n",
      "0.8695077805022465\n",
      "PST: Fri Feb 28 16:55:04 2020\n",
      "Doppler correction: -27897.548197380296 m / s\n"
     ]
    }
   ],
   "source": [
    "# stop date, calibration spectrum, on-line\n",
    "ux_cal_on_stop = 1582937704.4486437\n",
    "jd_cal_on_stop, lst_cal_on_stop = time_overhead(ux_cal_on_stop)"
   ]
  },
  {
   "cell_type": "code",
   "execution_count": 41,
   "metadata": {},
   "outputs": [
    {
     "name": "stdout",
     "output_type": "stream",
     "text": [
      "2458908.5397859844\n",
      "0.8792106978420446\n",
      "PST: Fri Feb 28 16:57:17 2020\n",
      "Doppler correction: -27960.009947759394 m / s\n"
     ]
    }
   ],
   "source": [
    "# start date, calibration spectrum, off-line\n",
    "ux_cal_off_start = 1582937837.5090616\n",
    "jd_cal_off_start, lst_cal_off_start = time_book(ux_cal_off_start)"
   ]
  },
  {
   "cell_type": "code",
   "execution_count": 42,
   "metadata": {},
   "outputs": [
    {
     "name": "stdout",
     "output_type": "stream",
     "text": [
      "2458908.5461478718\n",
      "0.9192930543224883\n",
      "PST: Fri Feb 28 17:06:27 2020\n",
      "Doppler correction: -28197.027228226034 m / s\n"
     ]
    }
   ],
   "source": [
    "# stop date, calibration spectrum, off-line\n",
    "ux_cal_off_stop = 1582938387.1761112\n",
    "jd_cal_off_stop, lst_cal_off_stop = time_overhead(ux_cal_off_stop)"
   ]
  },
  {
   "cell_type": "code",
   "execution_count": 52,
   "metadata": {},
   "outputs": [
    {
     "name": "stdout",
     "output_type": "stream",
     "text": [
      "Range: 548.8345632392229\n",
      "Average: -27922.609946606422\n",
      "-0.027922609946606423\n"
     ]
    }
   ],
   "source": [
    "print('Range:', -27648.19266498681 + 28197.027228226034)\n",
    "print('Average:', .5 * (-27648.19266498681 - 28197.027228226034))\n",
    "print(-27922.609946606422 / 10 ** 6)"
   ]
  },
  {
   "cell_type": "code",
   "execution_count": 44,
   "metadata": {},
   "outputs": [],
   "source": [
    "ra, dec = gal_to_eq(120, 0, 37.873199)"
   ]
  },
  {
   "cell_type": "code",
   "execution_count": 45,
   "metadata": {},
   "outputs": [],
   "source": [
    "def time_cass(ux):\n",
    "    jd = ugradio.timing.julian_date(ux)\n",
    "    print(jd)\n",
    "    lst = ugradio.timing.lst(jd)\n",
    "    print(lst)\n",
    "    print('PST:', ugradio.timing.local_time(ux))\n",
    "    print('Doppler correction:',\n",
    "          ugradio.doppler.get_projected_velocity(\n",
    "              ra, dec, jd))\n",
    "    return jd, lst"
   ]
  },
  {
   "cell_type": "code",
   "execution_count": 46,
   "metadata": {},
   "outputs": [
    {
     "name": "stdout",
     "output_type": "stream",
     "text": [
      "2458911.566299824\n",
      "1.0978660829990408\n",
      "PST: Mon Mar  2 17:35:28 2020\n",
      "Doppler correction: -28744.007061192708 m / s\n"
     ]
    }
   ],
   "source": [
    "# start date, Cassiopeia spectrum, on-line\n",
    "ux_cass_on_start = 1583199328.3047912\n",
    "jd_cass_on_start, lst_cass_on_start = time_overhead(ux_cass_on_start)"
   ]
  },
  {
   "cell_type": "code",
   "execution_count": 47,
   "metadata": {},
   "outputs": [
    {
     "name": "stdout",
     "output_type": "stream",
     "text": [
      "2458911.572479665\n",
      "1.1368014789863194\n",
      "PST: Mon Mar  2 17:44:22 2020\n",
      "Doppler correction: -28837.852883392745 m / s\n"
     ]
    }
   ],
   "source": [
    "# stop date, Cassiopeia spectrum, on-line\n",
    "ux_cass_on_stop = 1583199862.2430577\n",
    "jd_cass_on_stop, lst_cass_on_start = time_overhead(ux_cass_on_stop)"
   ]
  },
  {
   "cell_type": "code",
   "execution_count": 48,
   "metadata": {},
   "outputs": [
    {
     "name": "stdout",
     "output_type": "stream",
     "text": [
      "2458911.5785454623\n",
      "1.1750183582730211\n",
      "PST: Mon Mar  2 17:53:06 2020\n",
      "Doppler correction: -28897.916627378283 m / s\n"
     ]
    }
   ],
   "source": [
    "# start date, Cassiopeia spectrum, off-line\n",
    "ux_cass_off_start = 1583200386.3279595\n",
    "jd_cass_off_start, lst_cass_off_start = time_overhead(ux_cass_off_start)"
   ]
  },
  {
   "cell_type": "code",
   "execution_count": 49,
   "metadata": {},
   "outputs": [
    {
     "name": "stdout",
     "output_type": "stream",
     "text": [
      "2458911.5839334587\n",
      "1.2089648268489661\n",
      "PST: Mon Mar  2 18:00:51 2020\n",
      "Doppler correction: -28924.569513041723 m / s\n"
     ]
    }
   ],
   "source": [
    "# stop date, Cassiopeia spectrum, off-line\n",
    "ux_cass_off_stop = 1583200851.8508408\n",
    "jd_cass_off_stop, lst_cass_off_stop = time_overhead(ux_cass_off_stop)"
   ]
  },
  {
   "cell_type": "code",
   "execution_count": 51,
   "metadata": {},
   "outputs": [
    {
     "name": "stdout",
     "output_type": "stream",
     "text": [
      "Range: 180.5624518490149\n",
      "Average: -28834.288287117215\n"
     ]
    }
   ],
   "source": [
    "print('Range:', -28744.007061192708 + 28924.569513041723)\n",
    "print('Average:', .5 * (-28744.007061192708 - 28924.569513041723))"
   ]
  },
  {
   "cell_type": "code",
   "execution_count": null,
   "metadata": {},
   "outputs": [],
   "source": []
  }
 ],
 "metadata": {
  "kernelspec": {
   "display_name": "Python 3",
   "language": "python",
   "name": "python3"
  },
  "language_info": {
   "codemirror_mode": {
    "name": "ipython",
    "version": 3
   },
   "file_extension": ".py",
   "mimetype": "text/x-python",
   "name": "python",
   "nbconvert_exporter": "python",
   "pygments_lexer": "ipython3",
   "version": "3.7.6"
  }
 },
 "nbformat": 4,
 "nbformat_minor": 4
}
