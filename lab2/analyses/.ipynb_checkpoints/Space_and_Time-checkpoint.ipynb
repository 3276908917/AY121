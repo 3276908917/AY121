{
 "cells": [
  {
   "cell_type": "code",
   "execution_count": 18,
   "metadata": {},
   "outputs": [
    {
     "name": "stdout",
     "output_type": "stream",
     "text": [
      "/Users/lfinkbeiner/Documents/GitHub/AY121/lab2\n"
     ]
    }
   ],
   "source": [
    "cd .."
   ]
  },
  {
   "cell_type": "code",
   "execution_count": 19,
   "metadata": {},
   "outputs": [],
   "source": [
    "%run synthesis"
   ]
  },
  {
   "cell_type": "code",
   "execution_count": 20,
   "metadata": {},
   "outputs": [
    {
     "name": "stdout",
     "output_type": "stream",
     "text": [
      "/Users/lfinkbeiner/Documents/GitHub/AY121/lab2/analyses\n"
     ]
    }
   ],
   "source": [
    "cd analyses"
   ]
  },
  {
   "cell_type": "code",
   "execution_count": 21,
   "metadata": {},
   "outputs": [],
   "source": [
    "# Remember that, when the horn is pointing up, RA = LST\n",
    "def time_overhead(ux):\n",
    "    jd = ugradio.timing.julian_date(ux)\n",
    "    print(jd)\n",
    "    lst = ugradio.timing.lst(jd)\n",
    "    print(lst)\n",
    "    print('PST:', ugradio.timing.local_time(ux))\n",
    "    print('Doppler correction:',\n",
    "          ugradio.doppler.get_projected_velocity(\n",
    "              np.degrees(lst), 37.873199, jd))\n",
    "    return jd, lst"
   ]
  },
  {
   "cell_type": "code",
   "execution_count": 22,
   "metadata": {},
   "outputs": [
    {
     "name": "stdout",
     "output_type": "stream",
     "text": [
      "2458908.5325225084\n",
      "0.833447983009292\n",
      "PST: Fri Feb 28 16:46:49 2020\n",
      "Doppler correction: -27648.19266498681 m / s\n"
     ]
    }
   ],
   "source": [
    "# start date, calibration spectrum, on-line\n",
    "ux_cal_on_start = 1582937209.9447305\n",
    "jd_cal_on_start, lst_cal_on_start = time_overhead(ux_cal_on_start)"
   ]
  },
  {
   "cell_type": "code",
   "execution_count": 23,
   "metadata": {},
   "outputs": [
    {
     "name": "stdout",
     "output_type": "stream",
     "text": [
      "2458908.5382459336\n",
      "0.8695077805022465\n",
      "PST: Fri Feb 28 16:55:04 2020\n",
      "Doppler correction: -27897.548197380296 m / s\n"
     ]
    }
   ],
   "source": [
    "# stop date, calibration spectrum, on-line\n",
    "ux_cal_on_stop = 1582937704.4486437\n",
    "jd_cal_on_stop, lst_cal_on_stop = time_overhead(ux_cal_on_stop)"
   ]
  },
  {
   "cell_type": "code",
   "execution_count": 24,
   "metadata": {},
   "outputs": [
    {
     "name": "stdout",
     "output_type": "stream",
     "text": [
      "2458908.5397859844\n",
      "0.8792106978420446\n",
      "PST: Fri Feb 28 16:57:17 2020\n",
      "Doppler correction: -27960.009947759394 m / s\n"
     ]
    }
   ],
   "source": [
    "# start date, calibration spectrum, off-line\n",
    "ux_cal_off_start = 1582937837.5090616\n",
    "jd_cal_off_start, lst_cal_off_start = time_book(ux_cal_off_start)"
   ]
  },
  {
   "cell_type": "code",
   "execution_count": 25,
   "metadata": {},
   "outputs": [
    {
     "name": "stdout",
     "output_type": "stream",
     "text": [
      "2458908.5461478718\n",
      "0.9192930543224883\n",
      "PST: Fri Feb 28 17:06:27 2020\n",
      "Doppler correction: -28197.027228226034 m / s\n"
     ]
    }
   ],
   "source": [
    "# stop date, calibration spectrum, off-line\n",
    "ux_cal_off_stop = 1582938387.1761112\n",
    "jd_cal_off_stop, lst_cal_off_stop = time_overhead(ux_cal_off_stop)"
   ]
  },
  {
   "cell_type": "code",
   "execution_count": 26,
   "metadata": {},
   "outputs": [
    {
     "data": {
      "text/plain": [
       "548.8345632392229"
      ]
     },
     "execution_count": 26,
     "metadata": {},
     "output_type": "execute_result"
    }
   ],
   "source": [
    "-27648.19266498681 + 28197.027228226034"
   ]
  },
  {
   "cell_type": "code",
   "execution_count": null,
   "metadata": {},
   "outputs": [],
   "source": []
  }
 ],
 "metadata": {
  "kernelspec": {
   "display_name": "Python 3",
   "language": "python",
   "name": "python3"
  },
  "language_info": {
   "codemirror_mode": {
    "name": "ipython",
    "version": 3
   },
   "file_extension": ".py",
   "mimetype": "text/x-python",
   "name": "python",
   "nbconvert_exporter": "python",
   "pygments_lexer": "ipython3",
   "version": "3.7.6"
  }
 },
 "nbformat": 4,
 "nbformat_minor": 4
}
