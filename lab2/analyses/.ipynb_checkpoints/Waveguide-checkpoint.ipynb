{
 "cells": [
  {
   "cell_type": "code",
   "execution_count": 25,
   "metadata": {},
   "outputs": [
    {
     "name": "stdout",
     "output_type": "stream",
     "text": [
      "/Users/lfinkbeiner/Documents/GitHub/AY121/lab2\n"
     ]
    }
   ],
   "source": [
    "cd .."
   ]
  },
  {
   "cell_type": "code",
   "execution_count": 26,
   "metadata": {},
   "outputs": [],
   "source": [
    "%run synthesis"
   ]
  },
  {
   "cell_type": "code",
   "execution_count": 27,
   "metadata": {},
   "outputs": [
    {
     "name": "stdout",
     "output_type": "stream",
     "text": [
      "/Users/lfinkbeiner/Documents/GitHub/AY121/lab2/analyses\n"
     ]
    }
   ],
   "source": [
    "cd analyses"
   ]
  },
  {
   "cell_type": "code",
   "execution_count": 28,
   "metadata": {},
   "outputs": [],
   "source": [
    "'''\n",
    "The width 'a' was measured with calipers to be about 22.29 mm +- .01 mm\n",
    "\n",
    "max of open?: \"3.98 mV\" but this should be a square unit\n",
    "max of shorted?: \"1.42 mv\" agan, should be square\n",
    "'''\n",
    "# All numbers are given in GHz\n",
    "nulls = {}\n",
    "nulls['open3'] = np.array([4.45, 9.55, 14.50, 19.40, 24.30, 29.35, 34.45, 39.55, 44.6, 49.5])\n",
    "nulls['short3'] = np.array([5.45, 10.4, 15.35, 20.5, 25.6, 30.35, 35.6, 40.25, 45.5])\n",
    "\n",
    "nulls['7'] = np.array([8.8, 15.15])\n",
    "nulls['7.1'] = np.array([10.5, 16.35])\n",
    "nulls['7.2'] = np.array([11.95, 17.15])\n",
    "nulls['7.3'] = np.array([12.65, 17.4])\n",
    "\n",
    "nulls['open7.5'] = np.array([10.05, 14.4])\n",
    "nulls['short7.5'] = np.array([11.15, 15.35])\n",
    "\n",
    "nulls['7.6'] = np.array([10.85, 14.75])\n",
    "nulls['7.7'] = np.array([11.65, 15.45])\n",
    "nulls['7.8'] = np.array([8.7, 12.25, 15.85])\n",
    "nulls['7.9'] = np.array([9.5, 13.35, 16.3])\n",
    "\n",
    "nulls['8'] = np.array([10.15, 13.35, 16.7])\n",
    "nulls['8.5'] = np.array([9.85, 12.7, 15.25])\n",
    "nulls['9'] = np.array([9.3, 12.3, 14.25, 16.7])\n",
    "nulls['9.25'] = np.array([10.15, 12.45, 14.85, 17.2])\n",
    "nulls['9.5'] = np.array([8.9, 11.15, 13.35, 15.45, 17.7])\n",
    "nulls['9.75'] = np.array([9.75, 11.8, 14.25, 16.05])\n",
    "nulls['10'] = np.array([8.45, 10.45, 12.3, 14.35, 16.5])\n",
    "nulls['10.5'] = np.array([9.95, 11.75, 13.5, 15.45, 17.3])\n",
    "nulls['11'] = np.array([9.35, 11.4, 12.65, 14.45, 16.2, 17.85])\n",
    "nulls['11.5'] = np.array([8.95, 10.45, 12, 13.8, 15.15, 16.8])\n",
    "nulls['12'] = np.array([8.4, 9.85, 11.35, 12.85, 14.4, 15.9, 17.45])"
   ]
  },
  {
   "cell_type": "code",
   "execution_count": 29,
   "metadata": {},
   "outputs": [
    {
     "data": {
      "text/plain": [
       "0.5007575757575756"
      ]
     },
     "execution_count": 29,
     "metadata": {},
     "output_type": "execute_result"
    }
   ],
   "source": [
    "# Do we start numbering the nulls at one or zero??\n",
    "# Degree one: we demand a straight line\n",
    "open3fit = np.polyfit(null_range(len(nulls['open3'])), nulls['open3'], 1)\n",
    "v_open3 = open3fit[0] * 3e9\n",
    "v_open3 / 3e10"
   ]
  },
  {
   "cell_type": "code",
   "execution_count": 30,
   "metadata": {},
   "outputs": [
    {
     "data": {
      "text/plain": [
       "[44449999999.99999,\n",
       " 41535000000.00001,\n",
       " 37440000000.0,\n",
       " 37959999999.99999,\n",
       " 32625000000.000008,\n",
       " 29639999999.999992,\n",
       " 29259999999.99999,\n",
       " 27885000000.0,\n",
       " 26859999999.99998,\n",
       " 26199999999.999985,\n",
       " 22949999999.99998,\n",
       " 21735000000.0,\n",
       " 21783750000.000008,\n",
       " 20804999999.999996,\n",
       " 20816250000.000008,\n",
       " 20000000000.000008,\n",
       " 19320000000.000004,\n",
       " 18448571428.571426,\n",
       " 18120714285.714287,\n",
       " 18128571428.57144]"
      ]
     },
     "execution_count": 30,
     "metadata": {},
     "output_type": "execute_result"
    }
   ],
   "source": [
    "xband_y = fs(np.array([7, 7.1, 7.2, 7.3, 7.5, 7.6, 7.7, 7.8, 7.9, 8, 8.5, 9, 9.25, 9.5, 9.75, 10, 10.5, 11, 11.5, 12]))\n",
    "xband_x = []\n",
    "\n",
    "frqs = [7., 7.1, 7.2, 7.3, 7.5, 7.6, 7.7, 7.8, 7.9, 8., 8.5, 9, 9.25, 9.5,\n",
    "           9.75, 10, 10.5, 11, 11.5, 12]\n",
    "\n",
    "xband_x.append(length(nulls['7'], 7))\n",
    "xband_x.append(length(nulls['7.1'], 7.1))\n",
    "xband_x.append(length(nulls['7.2'], 7.2))\n",
    "xband_x.append(length(nulls['7.2'], 7.3))\n",
    "\n",
    "xband_x.append(length(nulls['open7.5'], 7.5))\n",
    "\n",
    "xband_x.append(length(nulls['7.6'], 7.6))\n",
    "xband_x.append(length(nulls['7.7'], 7.7))\n",
    "xband_x.append(length(nulls['7.8'], 7.8))\n",
    "xband_x.append(length(nulls['7.9'], 7.9))\n",
    "\n",
    "xband_x.append(length(nulls['8'], 8))\n",
    "xband_x.append(length(nulls['8.5'], 8.5))\n",
    "xband_x.append(length(nulls['9'], 9))\n",
    "xband_x.append(length(nulls['9.25'], 9.25))\n",
    "xband_x.append(length(nulls['9.5'], 9.5))\n",
    "xband_x.append(length(nulls['9.75'], 9.75))\n",
    "xband_x.append(length(nulls['10'], 10))\n",
    "xband_x.append(length(nulls['10.5'], 10.5))\n",
    "xband_x.append(length(nulls['11'], 11))\n",
    "xband_x.append(length(nulls['11.5'], 11.5))\n",
    "xband_x.append(length(nulls['12'], 12))\n",
    "xband_x"
   ]
  },
  {
   "cell_type": "code",
   "execution_count": 31,
   "metadata": {},
   "outputs": [
    {
     "data": {
      "image/png": "[encoded data removed]",
      "text/plain": [
       "<Figure size 432x288 with 1 Axes>"
      ]
     },
     "metadata": {
      "needs_background": "light"
     },
     "output_type": "display_data"
    }
   ],
   "source": [
    "plt.plot(frqs, xband_x)\n",
    "plt.show()"
   ]
  },
  {
   "cell_type": "code",
   "execution_count": 32,
   "metadata": {},
   "outputs": [
    {
     "data": {
      "image/png": "[encoded data removed]",
      "text/plain": [
       "<Figure size 432x288 with 1 Axes>"
      ]
     },
     "metadata": {
      "needs_background": "light"
     },
     "output_type": "display_data"
    }
   ],
   "source": [
    "plt.plot(frqs, xband_y)\n",
    "plt.show()"
   ]
  },
  {
   "cell_type": "markdown",
   "metadata": {},
   "source": [
    "Tutorials:\n",
    "https://github.com/AaronParsons/ugradio/blob/master/jupyter_tutorials/lab2/Central%20Limit%20Theorem%20and%20Averaging.ipynb\n",
    "\n",
    "https://github.com/AaronParsons/ugradio/blob/master/jupyter_tutorials/lab2/chisq_intro.ipynb"
   ]
  },
  {
   "cell_type": "code",
   "execution_count": 33,
   "metadata": {},
   "outputs": [],
   "source": [
    "def a_tester(a):\n",
    "    return xband_y / np.sqrt(1 - (xband_y / 2 / a) ** 2) / xband_x"
   ]
  },
  {
   "cell_type": "code",
   "execution_count": 34,
   "metadata": {},
   "outputs": [],
   "source": [
    "def chisq_noerr(a):\n",
    "    return np.sum(np.abs(1 - a_tester(a))**2)"
   ]
  },
  {
   "cell_type": "code",
   "execution_count": 35,
   "metadata": {},
   "outputs": [
    {
     "name": "stdout",
     "output_type": "stream",
     "text": [
      "Optimization terminated successfully.\n",
      "         Current function value: 20.000000\n",
      "         Iterations: 26\n",
      "         Function evaluations: 52\n",
      "a = [2.14294]\n"
     ]
    },
    {
     "name": "stderr",
     "output_type": "stream",
     "text": [
      "//anaconda3/lib/python3.7/site-packages/ipykernel_launcher.py:2: RuntimeWarning: invalid value encountered in sqrt\n",
      "  \n",
      "//anaconda3/lib/python3.7/site-packages/ipykernel_launcher.py:2: RuntimeWarning: divide by zero encountered in true_divide\n",
      "  \n"
     ]
    }
   ],
   "source": [
    "import scipy.optimize\n",
    "minzd = scipy.optimize.fmin(chisq_noerr, 5)\n",
    "print('a =', np.around(minzd, 5))"
   ]
  },
  {
   "cell_type": "markdown",
   "metadata": {},
   "source": [
    "Below this point we will be restricting ourselves to data enumerated in the report."
   ]
  },
  {
   "cell_type": "code",
   "execution_count": 36,
   "metadata": {},
   "outputs": [],
   "source": [
    "frequencies = np.array([7, 7.2, 7.5, 8, 8.5, 9, 9.5, 10, 10.5, 11, 11.5, 12])\n",
    "\n",
    "lamb_fs = fs(frequencies)\n",
    "\n",
    "lamb_g = np.array([\n",
    "    length(nulls['7'], 7),\n",
    "    length(nulls['7.2'], 7.2),\n",
    "    length(nulls['open7.5'], 7.5),\n",
    "    length(nulls['8'], 8),\n",
    "    length(nulls['8.5'], 8.5),\n",
    "    length(nulls['9'], 9),\n",
    "    length(nulls['9.5'], 9.5),\n",
    "    length(nulls['10'], 10),\n",
    "    length(nulls['10.5'], 10.5),\n",
    "    length(nulls['11'], 11),\n",
    "    length(nulls['11.5'], 11.5),\n",
    "    length(nulls['12'], 12),\n",
    "])"
   ]
  },
  {
   "cell_type": "code",
   "execution_count": 37,
   "metadata": {},
   "outputs": [
    {
     "name": "stdout",
     "output_type": "stream",
     "text": [
      "Optimization terminated successfully.\n",
      "         Current function value: 20.000000\n",
      "         Iterations: 26\n",
      "         Function evaluations: 52\n",
      "a = [2.14294]\n"
     ]
    },
    {
     "name": "stderr",
     "output_type": "stream",
     "text": [
      "//anaconda3/lib/python3.7/site-packages/ipykernel_launcher.py:2: RuntimeWarning: invalid value encountered in sqrt\n",
      "  \n",
      "//anaconda3/lib/python3.7/site-packages/ipykernel_launcher.py:2: RuntimeWarning: divide by zero encountered in true_divide\n",
      "  \n"
     ]
    }
   ],
   "source": [
    "minzd = scipy.optimize.fmin(chisq_noerr, 5)\n",
    "print('a =', np.around(minzd, 5))"
   ]
  },
  {
   "cell_type": "code",
   "execution_count": 38,
   "metadata": {},
   "outputs": [],
   "source": [
    "def width_to_wave(a, frees):\n",
    "    '''\n",
    "    @frees = free-space wavelength\n",
    "    '''\n",
    "    return frees / np.sqrt(1 - (frees / 2 / a) ** 2)"
   ]
  },
  {
   "cell_type": "code",
   "execution_count": 39,
   "metadata": {},
   "outputs": [],
   "source": [
    "yhat = width_to_wave(2.14294, lamb_fs)"
   ]
  },
  {
   "cell_type": "code",
   "execution_count": 40,
   "metadata": {},
   "outputs": [
    {
     "ename": "NameError",
     "evalue": "name 'lam_g' is not defined",
     "output_type": "error",
     "traceback": [
      "\u001b[0;31m---------------------------------------------------------------------------\u001b[0m",
      "\u001b[0;31mNameError\u001b[0m                                 Traceback (most recent call last)",
      "\u001b[0;32m<ipython-input-40-115175a5afb6>\u001b[0m in \u001b[0;36m<module>\u001b[0;34m\u001b[0m\n\u001b[0;32m----> 1\u001b[0;31m \u001b[0mred_chi\u001b[0m\u001b[0;34m(\u001b[0m\u001b[0;36m12\u001b[0m\u001b[0;34m,\u001b[0m \u001b[0;36m1\u001b[0m\u001b[0;34m,\u001b[0m \u001b[0;36m.2\u001b[0m\u001b[0;34m,\u001b[0m \u001b[0mlam_g\u001b[0m\u001b[0;34m,\u001b[0m \u001b[0myhat\u001b[0m\u001b[0;34m)\u001b[0m\u001b[0;34m\u001b[0m\u001b[0;34m\u001b[0m\u001b[0m\n\u001b[0m",
      "\u001b[0;31mNameError\u001b[0m: name 'lam_g' is not defined"
     ]
    }
   ],
   "source": [
    "red_chi(12, 1, .2, lamb_g, yhat)"
   ]
  },
  {
   "cell_type": "code",
   "execution_count": null,
   "metadata": {},
   "outputs": [],
   "source": []
  }
 ],
 "metadata": {
  "kernelspec": {
   "display_name": "Python 3",
   "language": "python",
   "name": "python3"
  },
  "language_info": {
   "codemirror_mode": {
    "name": "ipython",
    "version": 3
   },
   "file_extension": ".py",
   "mimetype": "text/x-python",
   "name": "python",
   "nbconvert_exporter": "python",
   "pygments_lexer": "ipython3",
   "version": "3.7.6"
  }
 },
 "nbformat": 4,
 "nbformat_minor": 4
}
