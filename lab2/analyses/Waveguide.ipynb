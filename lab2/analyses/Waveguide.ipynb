{
 "cells": [
  {
   "cell_type": "code",
   "execution_count": 2,
   "metadata": {},
   "outputs": [
    {
     "name": "stdout",
     "output_type": "stream",
     "text": [
      "C:\\Users\\Lukas\\Documents\\GitHub\\AY121\\lab2\n"
     ]
    }
   ],
   "source": [
    "cd .."
   ]
  },
  {
   "cell_type": "code",
   "execution_count": 3,
   "metadata": {},
   "outputs": [],
   "source": [
    "%run synthesis"
   ]
  },
  {
   "cell_type": "code",
   "execution_count": 4,
   "metadata": {},
   "outputs": [
    {
     "name": "stdout",
     "output_type": "stream",
     "text": [
      "C:\\Users\\Lukas\\Documents\\GitHub\\AY121\\lab2\\analyses\n"
     ]
    }
   ],
   "source": [
    "cd analyses"
   ]
  },
  {
   "cell_type": "code",
   "execution_count": 5,
   "metadata": {},
   "outputs": [],
   "source": [
    "'''\n",
    "The width 'a' was measured with calipers to be about 22.29 mm +- .01 mm\n",
    "\n",
    "max of open?: \"3.98 mV\" but this should be a square unit\n",
    "max of shorted?: \"1.42 mv\" agan, should be square\n",
    "'''\n",
    "# All numbers are given in GHz\n",
    "nulls = {}\n",
    "nulls['open3'] = np.array([4.45, 9.55, 14.50, 19.40, 24.30, 29.35, 34.45, 39.55, 44.6, 49.5])\n",
    "nulls['short3'] = np.array([5.45, 10.4, 15.35, 20.5, 25.6, 30.35, 35.6, 40.25, 45.5])"
   ]
  },
  {
   "cell_type": "code",
   "execution_count": 6,
   "metadata": {},
   "outputs": [
    {
     "data": {
      "image/png": "[encoded data removed]",
      "text/plain": [
       "<Figure size 432x288 with 1 Axes>"
      ]
     },
     "metadata": {
      "needs_background": "light"
     },
     "output_type": "display_data"
    }
   ],
   "source": [
    "indices = np.array([1., 2., 3., 4., 5., 6., 7., 8., 9., 10.])\n",
    "#plt.scatter(indices, nulls['open3'])\n",
    "plt.errorbar(indices, nulls['open3'], yerr = .4, color='k', linestyle='')\n",
    "plt.plot(indices, indices * fit(nulls['open3'])[0] + fit(nulls['open3'])[1], linestyle='dotted')\n",
    "plt.xlabel('Null index')\n",
    "plt.ylabel('Null position (cm)')\n",
    "plt.grid()"
   ]
  },
  {
   "cell_type": "markdown",
   "metadata": {},
   "source": [
    "You have your work cut out for you? The error bars seem far too small, and the discrepancy between prediction and observation is imperceptible."
   ]
  },
  {
   "cell_type": "code",
   "execution_count": 7,
   "metadata": {},
   "outputs": [
    {
     "name": "stdout",
     "output_type": "stream",
     "text": [
      "Quick calculation: 5.005555555555556\n",
      "Rigorous calculation: 5.007575757575756\n"
     ]
    }
   ],
   "source": [
    "def differences(L):\n",
    "    return [L[i + 1] - L[i] for i in range(len(L) - 1)]\n",
    "\n",
    "print('Quick calculation:', np.mean(differences(nulls['open3'])))\n",
    "print('Rigorous calculation:', fit(nulls['open3'])[0])"
   ]
  },
  {
   "cell_type": "code",
   "execution_count": 8,
   "metadata": {},
   "outputs": [],
   "source": [
    "nulls['7'] = np.array([8.8, 15.15])\n",
    "nulls['7.1'] = np.array([10.5, 16.35])\n",
    "nulls['7.2'] = np.array([11.95, 17.15])\n",
    "nulls['7.3'] = np.array([12.65, 17.4])\n",
    "\n",
    "nulls['open7.5'] = np.array([10.05, 14.4])\n",
    "nulls['short7.5'] = np.array([11.15, 15.35])\n",
    "\n",
    "nulls['7.6'] = np.array([10.85, 14.75])\n",
    "nulls['7.7'] = np.array([11.65, 15.45])\n",
    "nulls['7.8'] = np.array([8.7, 12.25, 15.85])\n",
    "nulls['7.9'] = np.array([9.5, 13.35, 16.3])\n",
    "\n",
    "nulls['8'] = np.array([10.15, 13.35, 16.7])\n",
    "nulls['8.5'] = np.array([9.85, 12.7, 15.25])\n",
    "nulls['9'] = np.array([9.3, 12.3, 14.25, 16.7])\n",
    "nulls['9.25'] = np.array([10.15, 12.45, 14.85, 17.2])\n",
    "nulls['9.5'] = np.array([8.9, 11.15, 13.35, 15.45, 17.7])\n",
    "nulls['9.75'] = np.array([9.75, 11.8, 14.25, 16.05])\n",
    "nulls['10'] = np.array([8.45, 10.45, 12.3, 14.35, 16.5])\n",
    "nulls['10.5'] = np.array([9.95, 11.75, 13.5, 15.45, 17.3])\n",
    "nulls['11'] = np.array([9.35, 11.4, 12.65, 14.45, 16.2, 17.85])\n",
    "nulls['11.5'] = np.array([8.95, 10.45, 12, 13.8, 15.15, 16.8])\n",
    "nulls['12'] = np.array([8.4, 9.85, 11.35, 12.85, 14.4, 15.9, 17.45])"
   ]
  },
  {
   "cell_type": "code",
   "execution_count": 44,
   "metadata": {},
   "outputs": [
    {
     "name": "stdout",
     "output_type": "stream",
     "text": [
      "[ 5.00757576 -0.57666667]\n",
      "[5.00166667 0.43611111]\n"
     ]
    }
   ],
   "source": [
    "print(fit(nulls['open3']))\n",
    "print(fit(nulls['short3']))"
   ]
  },
  {
   "cell_type": "code",
   "execution_count": null,
   "metadata": {},
   "outputs": [],
   "source": [
    "def reduced3():\n",
    "    return (1/ 8 / .4^2) * sum()"
   ]
  },
  {
   "cell_type": "code",
   "execution_count": 9,
   "metadata": {},
   "outputs": [
    {
     "data": {
      "text/plain": [
       "0.5007575757575756"
      ]
     },
     "execution_count": 9,
     "metadata": {},
     "output_type": "execute_result"
    }
   ],
   "source": [
    "# Do we start numbering the nulls at one or zero??\n",
    "# Degree one: we demand a straight line\n",
    "open3fit = np.polyfit(null_range(len(nulls['open3'])), nulls['open3'], 1)\n",
    "v_open3 = open3fit[0] * 3e9\n",
    "v_open3 / 3e10"
   ]
  },
  {
   "cell_type": "code",
   "execution_count": 10,
   "metadata": {},
   "outputs": [
    {
     "data": {
      "text/plain": [
       "[6.35,\n",
       " 5.850000000000002,\n",
       " 5.199999999999999,\n",
       " 5.199999999999999,\n",
       " 4.3500000000000005,\n",
       " 3.8999999999999995,\n",
       " 3.799999999999998,\n",
       " 3.5749999999999975,\n",
       " 3.3999999999999977,\n",
       " 3.2749999999999977,\n",
       " 2.6999999999999997,\n",
       " 2.4150000000000005,\n",
       " 2.3549999999999995,\n",
       " 2.189999999999999,\n",
       " 2.1350000000000007,\n",
       " 1.9999999999999996,\n",
       " 1.84,\n",
       " 1.6771428571428557,\n",
       " 1.5757142857142856,\n",
       " 1.5107142857142857]"
      ]
     },
     "execution_count": 10,
     "metadata": {},
     "output_type": "execute_result"
    }
   ],
   "source": [
    "xband_y = fs(np.array([7, 7.1, 7.2, 7.3, 7.5, 7.6, 7.7, 7.8, 7.9, 8, 8.5, 9, 9.25, 9.5, 9.75, 10, 10.5, 11, 11.5, 12]))\n",
    "xband_x = []\n",
    "\n",
    "frqs = [7., 7.1, 7.2, 7.3, 7.5, 7.6, 7.7, 7.8, 7.9, 8., 8.5, 9, 9.25, 9.5,\n",
    "           9.75, 10, 10.5, 11, 11.5, 12]\n",
    "\n",
    "xband_x.append(length(nulls['7'], 7))\n",
    "xband_x.append(length(nulls['7.1'], 7.1))\n",
    "xband_x.append(length(nulls['7.2'], 7.2))\n",
    "xband_x.append(length(nulls['7.2'], 7.3))\n",
    "\n",
    "xband_x.append(length(nulls['open7.5'], 7.5))\n",
    "\n",
    "xband_x.append(length(nulls['7.6'], 7.6))\n",
    "xband_x.append(length(nulls['7.7'], 7.7))\n",
    "xband_x.append(length(nulls['7.8'], 7.8))\n",
    "xband_x.append(length(nulls['7.9'], 7.9))\n",
    "\n",
    "xband_x.append(length(nulls['8'], 8))\n",
    "xband_x.append(length(nulls['8.5'], 8.5))\n",
    "xband_x.append(length(nulls['9'], 9))\n",
    "xband_x.append(length(nulls['9.25'], 9.25))\n",
    "xband_x.append(length(nulls['9.5'], 9.5))\n",
    "xband_x.append(length(nulls['9.75'], 9.75))\n",
    "xband_x.append(length(nulls['10'], 10))\n",
    "xband_x.append(length(nulls['10.5'], 10.5))\n",
    "xband_x.append(length(nulls['11'], 11))\n",
    "xband_x.append(length(nulls['11.5'], 11.5))\n",
    "xband_x.append(length(nulls['12'], 12))\n",
    "xband_x"
   ]
  },
  {
   "cell_type": "code",
   "execution_count": 11,
   "metadata": {},
   "outputs": [
    {
     "data": {
      "image/png": "[encoded data removed]",
      "text/plain": [
       "<Figure size 432x288 with 1 Axes>"
      ]
     },
     "metadata": {
      "needs_background": "light"
     },
     "output_type": "display_data"
    }
   ],
   "source": [
    "plt.plot(frqs, xband_x)\n",
    "plt.show()"
   ]
  },
  {
   "cell_type": "code",
   "execution_count": 12,
   "metadata": {},
   "outputs": [
    {
     "data": {
      "image/png": "[encoded data removed]",
      "text/plain": [
       "<Figure size 432x288 with 1 Axes>"
      ]
     },
     "metadata": {
      "needs_background": "light"
     },
     "output_type": "display_data"
    }
   ],
   "source": [
    "plt.plot(frqs, xband_y)\n",
    "plt.show()"
   ]
  },
  {
   "cell_type": "markdown",
   "metadata": {},
   "source": [
    "Tutorials:\n",
    "https://github.com/AaronParsons/ugradio/blob/master/jupyter_tutorials/lab2/Central%20Limit%20Theorem%20and%20Averaging.ipynb\n",
    "\n",
    "https://github.com/AaronParsons/ugradio/blob/master/jupyter_tutorials/lab2/chisq_intro.ipynb"
   ]
  },
  {
   "cell_type": "code",
   "execution_count": 22,
   "metadata": {},
   "outputs": [],
   "source": [
    "def a_tester(a):\n",
    "    return xband_y / np.sqrt(1 - np.divide(xband_y, 2 * a) ** 2) / xband_x"
   ]
  },
  {
   "cell_type": "code",
   "execution_count": 23,
   "metadata": {},
   "outputs": [],
   "source": [
    "def chisq_noerr(a):\n",
    "    return np.sum(np.abs(1 - a_tester(a))**2)"
   ]
  },
  {
   "cell_type": "code",
   "execution_count": 24,
   "metadata": {},
   "outputs": [
    {
     "name": "stdout",
     "output_type": "stream",
     "text": [
      "Optimization terminated successfully.\n",
      "         Current function value: 2.413197\n",
      "         Iterations: 68\n",
      "         Function evaluations: 174\n",
      "a = [1.00663301e+08]\n"
     ]
    }
   ],
   "source": [
    "import scipy.optimize\n",
    "minzd = scipy.optimize.fmin(chisq_noerr, 5)\n",
    "print('a =', np.around(minzd, 5))"
   ]
  },
  {
   "cell_type": "markdown",
   "metadata": {},
   "source": [
    "Below this point we will be restricting ourselves to data enumerated in the report."
   ]
  },
  {
   "cell_type": "code",
   "execution_count": 21,
   "metadata": {},
   "outputs": [
    {
     "data": {
      "text/plain": [
       "array([6.35      , 5.2       , 4.35      , 3.275     , 2.7       ,\n",
       "       2.415     , 2.19      , 2.        , 1.84      , 1.67714286,\n",
       "       1.57571429, 1.51071429])"
      ]
     },
     "execution_count": 21,
     "metadata": {},
     "output_type": "execute_result"
    }
   ],
   "source": [
    "frequencies = np.array([7, 7.2, 7.5, 8, 8.5, 9, 9.5, 10, 10.5, 11, 11.5, 12])\n",
    "\n",
    "xband_y = lamb_fs = fs(frequencies)\n",
    "\n",
    "xband_x = lamb_g = np.array([\n",
    "    length(nulls['7'], 7),\n",
    "    length(nulls['7.2'], 7.2),\n",
    "    length(nulls['open7.5'], 7.5),\n",
    "    length(nulls['8'], 8),\n",
    "    length(nulls['8.5'], 8.5),\n",
    "    length(nulls['9'], 9),\n",
    "    length(nulls['9.5'], 9.5),\n",
    "    length(nulls['10'], 10),\n",
    "    length(nulls['10.5'], 10.5),\n",
    "    length(nulls['11'], 11),\n",
    "    length(nulls['11.5'], 11.5),\n",
    "    length(nulls['12'], 12),\n",
    "])\n",
    "\n",
    "lamb_g"
   ]
  },
  {
   "cell_type": "code",
   "execution_count": 43,
   "metadata": {},
   "outputs": [
    {
     "name": "stdout",
     "output_type": "stream",
     "text": [
      "Optimization terminated successfully.\n",
      "         Current function value: 13.287849\n",
      "         Iterations: 15\n",
      "         Function evaluations: 30\n"
     ]
    },
    {
     "data": {
      "text/plain": [
       "array([9.41888])"
      ]
     },
     "execution_count": 43,
     "metadata": {},
     "output_type": "execute_result"
    }
   ],
   "source": [
    "minzd = scipy.optimize.fmin(width_chisq, 10)\n",
    "a_hat = np.around(minzd, 5)\n",
    "a_hat"
   ]
  },
  {
   "cell_type": "code",
   "execution_count": 36,
   "metadata": {},
   "outputs": [],
   "source": [
    "def width_to_wave(a, frees):\n",
    "    '''\n",
    "    @frees = free-space wavelength\n",
    "    '''\n",
    "    return frees / np.sqrt(1 - (frees / 2 / a) ** 2)\n",
    "\n",
    "def width_chisq(a):\n",
    "    return np.sum(np.abs(lamb_g - width_to_wave(a, lamb_fs))**2)"
   ]
  },
  {
   "cell_type": "code",
   "execution_count": 34,
   "metadata": {},
   "outputs": [
    {
     "name": "stdout",
     "output_type": "stream",
     "text": [
      "[4.09334479 3.82658673 3.59303862 3.38677694 3.20322392 3.03878232\n",
      " 2.89058395 2.75631234 2.63407519 2.5223108 ]\n",
      "[4.35       3.275      2.7        2.415      2.19       2.\n",
      " 1.84       1.67714286 1.57571429 1.51071429]\n",
      "[9.41888]\n"
     ]
    }
   ],
   "source": [
    "yhat = width_to_wave(a_hat, lamb_fs[2:])\n",
    "print(yhat)\n",
    "# Why is there a factor of two here?\n",
    "# It shows that you made a mistake somewhere else, surely.\n",
    "print(lamb_g[2:])\n",
    "print(a_hat)"
   ]
  },
  {
   "cell_type": "code",
   "execution_count": 32,
   "metadata": {},
   "outputs": [
    {
     "data": {
      "text/plain": [
       "1.4981715932141737"
      ]
     },
     "execution_count": 32,
     "metadata": {},
     "output_type": "execute_result"
    }
   ],
   "source": [
    "red_chi(10, 1, .8, lamb_g[2:], yhat)"
   ]
  },
  {
   "cell_type": "code",
   "execution_count": null,
   "metadata": {},
   "outputs": [],
   "source": []
  }
 ],
 "metadata": {
  "kernelspec": {
   "display_name": "Python 3",
   "language": "python",
   "name": "python3"
  },
  "language_info": {
   "codemirror_mode": {
    "name": "ipython",
    "version": 3
   },
   "file_extension": ".py",
   "mimetype": "text/x-python",
   "name": "python",
   "nbconvert_exporter": "python",
   "pygments_lexer": "ipython3",
   "version": "3.7.6"
  }
 },
 "nbformat": 4,
 "nbformat_minor": 4
}
