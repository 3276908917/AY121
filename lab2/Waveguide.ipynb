{
 "cells": [
  {
   "cell_type": "code",
   "execution_count": 3,
   "metadata": {},
   "outputs": [],
   "source": [
    "%run synthesis"
   ]
  },
  {
   "cell_type": "code",
   "execution_count": 5,
   "metadata": {},
   "outputs": [],
   "source": [
    "'''\n",
    "The width 'a' was measured with calipers to be about 22.29 mm +- .01 mm\n",
    "\n",
    "max of open?: \"3.98 mV\"\n",
    "max of shorted?: \"1.42 mv\"\n",
    "'''\n",
    "# All numbers are given in GHz\n",
    "nulls = {}\n",
    "nulls['open3'] = np.array([4.45, 9.55, 14.50, 19.40, 24.30, 29.35, 34.45, 39.55, 44.6, 49.5])\n",
    "nulls['short3'] = np.array([5.45, 10.4, 15.35, 20.5, 25.6, 30.35, 35.6, 40.25, 45.5])\n",
    "nulls['7'] = np.array([8.8, 15.15])\n",
    "nulls['7.5'] = np.array([10.35, 14.4])\n",
    "nulls['8'] = np.array([10.15, 13.35, 16.7])\n",
    "nulls['8.5'] = np.array([9.85, 12.7, 15.25])\n",
    "nulls['9'] = np.array([9.3, 12.3, 14.25, 16.7])\n",
    "nulls['9.25'] = np.array([10.15, 12.45, 14.85, 17.2])\n",
    "nulls['9.5'] = np.array([8.9, 11.15, 13.35, 15.45, 17.7])\n",
    "nulls['9.75'] = np.array([9.75, 11.8, 14.25, 16.05])\n",
    "nulls['10'] = np.array([8.45, 10.45, 12.3, 14.35, 16.5])\n",
    "nulls['10.5'] = np.array([9.95, 11.75, 13.5, 15.45, 17.3])\n",
    "nulls['11'] = np.array([9.35, 11.4, 12.65, 14.45, 16.2, 17.85])\n",
    "nulls['11.5'] = np.array([8.95, 10.45, 12, 13.8, 15.15, 16.8])\n",
    "nulls['12'] = np.array([8.4, 9.85, 11.35, 12.85, 14.4, 15.9, 17.45])"
   ]
  },
  {
   "cell_type": "code",
   "execution_count": null,
   "metadata": {},
   "outputs": [],
   "source": []
  }
 ],
 "metadata": {
  "kernelspec": {
   "display_name": "Python ay160",
   "language": "python",
   "name": "ay160"
  },
  "language_info": {
   "codemirror_mode": {
    "name": "ipython",
    "version": 3
   },
   "file_extension": ".py",
   "mimetype": "text/x-python",
   "name": "python",
   "nbconvert_exporter": "python",
   "pygments_lexer": "ipython3",
   "version": "3.7.6"
  }
 },
 "nbformat": 4,
 "nbformat_minor": 4
}
